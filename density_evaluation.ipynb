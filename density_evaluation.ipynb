{
  "cells": [
    {
      "cell_type": "code",
      "execution_count": null,
      "metadata": {
        "colab": {
          "base_uri": "https://localhost:8080/"
        },
        "id": "eGNRj302VUwW",
        "outputId": "c52c3abe-e194-4e49-c216-c3acceb53397"
      },
      "outputs": [],
      "source": [
        "from google.colab import drive\n",
        "drive.mount('/content/drive')"
      ]
    },
    {
      "attachments": {},
      "cell_type": "markdown",
      "metadata": {
        "id": "L9Q4yD3_VNG3"
      },
      "source": [
        "# Import libraries"
      ]
    },
    {
      "cell_type": "code",
      "execution_count": null,
      "metadata": {
        "colab": {
          "base_uri": "https://localhost:8080/"
        },
        "id": "_zGhleyqVNG6",
        "outputId": "d44f2313-c1b9-468c-d905-f9a851371958"
      },
      "outputs": [],
      "source": [
        "# import libraries\n",
        "!pip install opencv-python\n",
        "import sklearn\n",
        "import pandas as pd\n",
        "import numpy as np\n",
        "import os\n",
        "import cv2\n",
        "from tqdm import tqdm\n",
        "import matplotlib.pyplot as plt\n",
        "from sklearn.linear_model import LinearRegression\n",
        "from scipy.stats import spearmanr, kendalltau\n",
        "from sklearn.svm import SVC\n",
        "from sklearn.model_selection import cross_val_score\n",
        "from sklearn.metrics import make_scorer,fbeta_score\n",
        "from sklearn.neighbors import KNeighborsClassifier\n",
        "from sklearn.ensemble import RandomForestClassifier\n",
        "from sklearn.ensemble import AdaBoostClassifier\n",
        "from sklearn.tree import DecisionTreeClassifier\n",
        "from sklearn.model_selection import GridSearchCV\n",
        "\n",
        "# Disattiva tutti i warning\n",
        "import warnings\n",
        "warnings.filterwarnings('ignore')"
      ]
    },
    {
      "cell_type": "code",
      "execution_count": null,
      "metadata": {},
      "outputs": [],
      "source": [
        "# set True if you have and you want to use the 16 GB RAM (it will be faster)\n",
        "RAM_16_GB = False"
      ]
    },
    {
      "attachments": {},
      "cell_type": "markdown",
      "metadata": {
        "id": "7d1Tjb0vVNG8"
      },
      "source": [
        "# Loading dataset"
      ]
    },
    {
      "cell_type": "code",
      "execution_count": null,
      "metadata": {
        "colab": {
          "base_uri": "https://localhost:8080/",
          "height": 0
        },
        "id": "Op37Bfe9VNG8",
        "outputId": "6bf17d39-3f81-481e-acbb-36dd3e2bd5d6"
      },
      "outputs": [],
      "source": [
        "dataset_path='C:/Users/miche/Desktop/anemia-detection/database_sclere/'   # modify the dataset_path to your own dir\n",
        "assert dataset_path!='' and dataset_path!='/path/to/dataset/', 'Please specify the dataset_path!'\n",
        "\n",
        "# load csv file\n",
        "df = pd.read_csv(dataset_path+'hbvalue.csv', sep=';')\n",
        "\n",
        "# cut the dataset only to ind and ita dataset\n",
        "df = df[(df['dataset']=='ind') | (df['dataset']=='ita')]\n",
        "\n",
        "df.head()\n"
      ]
    },
    {
      "attachments": {},
      "cell_type": "markdown",
      "metadata": {
        "id": "L5RG7f-qbbB0"
      },
      "source": [
        "# Lists initialization"
      ]
    },
    {
      "cell_type": "code",
      "execution_count": null,
      "metadata": {
        "id": "IjgF3x5FbabM"
      },
      "outputs": [],
      "source": [
        "#BGR\n",
        "vessels_density = []\n",
        "\n",
        "value_r_minous_g_img_sclera = []\n",
        "value_r_minous_g_img_vessels = []\n",
        "\n",
        "sclera_quantiles_bgr = []\n",
        "vessels_quantiles_bgr = []\n",
        "\n",
        "dev_std_sclera = []\n",
        "dev_std_vessels = []\n",
        "\n",
        "#Lab\n",
        "vessels_density_lab = []\n",
        "\n",
        "value_a_img_sclera = []\n",
        "value_a_img_vessels = []\n",
        "\n",
        "sclera_quantiles_lab = []\n",
        "vessels_quantiles_lab = []\n",
        "\n",
        "dev_std_sclera_cielab = []\n",
        "dev_std_vessels_cielab = []\n",
        "\n",
        "vessels_colors_white_deviations_cielab = []\n",
        "vessels_colors_white_quantiles_cielab = []"
      ]
    },
    {
      "attachments": {},
      "cell_type": "markdown",
      "metadata": {
        "id": "oh8WEX8RICj0"
      },
      "source": [
        "# Loading photos\n",
        "\n",
        "## Before running this block: \n",
        "\n",
        "You need to execute these blocks in this order: \n",
        " 1. Loading italian photos (make sure you don't run Loading indian photos)\n",
        " 2. preprocessing\n",
        " 3. mask application\n",
        " 4. metrics calculation (BGR)\n",
        " 5. conversion in Lab\n",
        " 6. contrast enhancement\n",
        " 7. metrics calculation (Lab)\n",
        " 8. extract white of sclera\n",
        "\n",
        "After you can Load indian photos and re-execute blocks from 2 to 8."
      ]
    },
    {
      "attachments": {},
      "cell_type": "markdown",
      "metadata": {
        "id": "pM8GPt0FF4RA"
      },
      "source": [
        "### Loading italian photos"
      ]
    },
    {
      "cell_type": "code",
      "execution_count": null,
      "metadata": {
        "colab": {
          "base_uri": "https://localhost:8080/"
        },
        "id": "aKzmTqu2VNG9",
        "outputId": "ca1d003b-e61e-4aba-86ed-0bcaaa1bce86"
      },
      "outputs": [],
      "source": [
        "sclera_vessels = []\n",
        "sclera_masks = []\n",
        "\n",
        "filtered_df = df.loc[df['dataset'] == 'ita']\n",
        "\n",
        "# iterates on the Italian dataset\n",
        "for index, row in tqdm(filtered_df.iterrows(), total=filtered_df.shape[0]):\n",
        "\n",
        "    path_photos = dataset_path+'Italiano congiuntive/Dataset congiuntive italiano segmentato/'\n",
        "    paziente = row['paziente'] + \"_\"\n",
        "\n",
        "    # search folder\n",
        "    matching_folders = []\n",
        "    for folder_name in os.listdir(path_photos):\n",
        "        if folder_name.startswith(paziente) and os.path.isdir(os.path.join(path_photos, folder_name)):\n",
        "            path_single_photo = os.path.join(path_photos, folder_name)\n",
        "\n",
        "            name_photo = folder_name.split(\"-\")[-1]\n",
        "            # load sclera\n",
        "            sclera_mask = cv2.imread(path_single_photo + \"/\" + name_photo + '_sclera.png')\n",
        "            sclera_masks.append(sclera_mask)\n",
        "\n",
        "            # load mask\n",
        "            sclera_vessel = cv2.imread(path_single_photo + \"/\" + name_photo + '_sclera_vessels_auto_deep.png', cv2.IMREAD_UNCHANGED)\n",
        "\n",
        "            if sclera_vessel is None:\n",
        "                sclera_vessel = cv2.imread(path_single_photo + \"/\" + name_photo + '_sclera_vessels_auto.png', cv2.IMREAD_UNCHANGED)\n",
        "\n",
        "            sclera_vessels.append(sclera_vessel)\n",
        "            break\n"
      ]
    },
    {
      "attachments": {},
      "cell_type": "markdown",
      "metadata": {
        "id": "exFuWFruVNG9"
      },
      "source": [
        "### Loading indian photos"
      ]
    },
    {
      "cell_type": "code",
      "execution_count": null,
      "metadata": {
        "colab": {
          "base_uri": "https://localhost:8080/"
        },
        "id": "ghyamisMymTl",
        "outputId": "b3e8c282-f8d7-436b-ebec-a41b3aafcc5e"
      },
      "outputs": [],
      "source": [
        "sclera_vessels = []\n",
        "sclera_masks = []\n",
        "\n",
        "filtered_df = df.loc[df['dataset'] == 'ind']\n",
        "\n",
        "# iterates on Indian dataset\n",
        "for index, row in tqdm(filtered_df.iterrows(), total=filtered_df.shape[0]):\n",
        "\n",
        "\n",
        "    path_photos = dataset_path+'Dataset indiano/'\n",
        "    paziente = row['paziente'] + \"-\"\n",
        "\n",
        "    # search folder\n",
        "    matching_folders = []\n",
        "    for folder_name in os.listdir(path_photos):\n",
        "        if folder_name.startswith(paziente) and os.path.isdir(os.path.join(path_photos, folder_name)):\n",
        "            path_single_photo = os.path.join(path_photos, folder_name)\n",
        "\n",
        "            name_photo = folder_name.split(\"-\")[-1]\n",
        "            # load sclera\n",
        "            sclera_mask = cv2.imread(path_single_photo + \"/\" + name_photo + '_sclera.png')\n",
        "            sclera_masks.append(sclera_mask)\n",
        "\n",
        "            # load mask\n",
        "            sclera_vessel = cv2.imread(path_single_photo + \"/\" + name_photo + '_sclera_vessels_auto_deep.png', cv2.IMREAD_UNCHANGED)\n",
        "\n",
        "            if sclera_vessel is None:\n",
        "                sclera_vessel = cv2.imread(path_single_photo + \"/\" + name_photo + '_sclera_vessels_auto.png', cv2.IMREAD_UNCHANGED)\n",
        "\n",
        "            sclera_vessels.append(sclera_vessel)\n",
        "            break\n"
      ]
    },
    {
      "attachments": {},
      "cell_type": "markdown",
      "metadata": {
        "id": "ozFHdBQHVNG9"
      },
      "source": [
        "# Preprocessing"
      ]
    },
    {
      "cell_type": "code",
      "execution_count": null,
      "metadata": {
        "colab": {
          "base_uri": "https://localhost:8080/",
          "height": 0
        },
        "id": "jh83jDH7VNG-",
        "outputId": "8416fa84-0181-4084-9739-efb7677ce006",
        "scrolled": false
      },
      "outputs": [],
      "source": [
        "sclera_vessels_shape = sclera_vessels[0].shape\n",
        "sclera_masks_bw = []                                # array of black and white sclera\n",
        "sclera_vessels_bw = []                              # array of black and white sclera vessels\n",
        "\n",
        "# converts the sclera masks to black and white\n",
        "for index, mask in tqdm(enumerate(sclera_masks), total=len(sclera_masks)):\n",
        "    # resize the mask to the sclera vessel shape\n",
        "    mask = cv2.resize(mask, sclera_vessels_shape[:2][::-1])\n",
        "\n",
        "    mask = cv2.cvtColor(mask, cv2.COLOR_BGR2GRAY)\n",
        "\n",
        "    _, mask = cv2.threshold(mask, 2, 255, cv2.THRESH_BINARY)\n",
        "\n",
        "    sclera_masks_bw.append(mask)\n",
        "\n",
        "# converts the sclera vessels to black and white\n",
        "for index, mask in tqdm(enumerate(sclera_vessels), total=len(sclera_vessels)):\n",
        "    # transparence becomes black\n",
        "    mask[mask[:, :, 3] == 0] = [0, 0, 0, 0]\n",
        "    mask = cv2.cvtColor(mask, cv2.COLOR_BGR2GRAY)\n",
        "\n",
        "    _, mask = cv2.threshold(mask, 2, 255, cv2.THRESH_BINARY)\n",
        "\n",
        "    sclera_vessels_bw.append(mask)\n",
        "\n",
        "# show the sclera masks and sclera vessels\n",
        "plt.figure(figsize=(20, 10))\n",
        "plt.subplot(1, 2, 1)\n",
        "plt.imshow(sclera_masks_bw[1], cmap='gray')\n",
        "plt.subplot(1, 2, 2)\n",
        "plt.imshow(sclera_vessels_bw[1], cmap='gray')\n",
        "plt.show()"
      ]
    },
    {
      "attachments": {},
      "cell_type": "markdown",
      "metadata": {
        "id": "4UxXyTV8VNG-"
      },
      "source": [
        "# Mask application"
      ]
    },
    {
      "cell_type": "code",
      "execution_count": null,
      "metadata": {
        "colab": {
          "base_uri": "https://localhost:8080/",
          "height": 398
        },
        "id": "LvRXktB3VNG-",
        "outputId": "0d43653e-3579-4496-a9f1-0b7507d0165b"
      },
      "outputs": [],
      "source": [
        "sclera_masked = []                                    # array of sclera with only sclera part is coloured\n",
        "sclera_vessels_masked = []                            # array of sclera with only sclera part is coloured\n",
        "\n",
        "\n",
        "if not RAM_16_GB:\n",
        "    np.save(\"sclera_masks.npy\", sclera_masks)\n",
        "    np.save(\"sclera_masks_bw.npy\", sclera_masks_bw)\n",
        "    np.save(\"sclera_vessels.npy\", sclera_vessels)\n",
        "    np.save(\"sclera_vessels_bw.npy\", sclera_vessels_bw)\n",
        "\n",
        "\n",
        "for l in tqdm(range(len(sclera_masks_bw))):\n",
        "    sclera_masked.append(sclera_masks[l])\n",
        "    sclera_masks_bw[l] =  cv2.resize(sclera_masks_bw[l], sclera_masked[l].shape[:2][::-1])\n",
        "    sclera_masked[l] = cv2.bitwise_and(sclera_masked[l], sclera_masked[l], mask=sclera_masks_bw[l])                  # if mask pixel is black\n",
        "\n",
        "\n",
        "# delete masks lists\n",
        "if not RAM_16_GB:\n",
        "    del sclera_masks_bw\n",
        "    del sclera_masks\n",
        "\n",
        "for l in tqdm(range(len(sclera_vessels_bw))):\n",
        "    sclera_vessels_masked.append(sclera_masked[l])\n",
        "    sclera_vessels_bw[l] =  cv2.resize(sclera_vessels_bw[l], sclera_vessels_masked[l].shape[:2][::-1])\n",
        "    sclera_vessels_masked[l] = cv2.bitwise_and(sclera_vessels_masked[l], sclera_vessels_masked[l], mask=sclera_vessels_bw[l])                  # if mask pixel is black\n",
        "\n",
        "# delete vessels lists\n",
        "if not RAM_16_GB:\n",
        "    del sclera_vessels_bw\n",
        "    del sclera_vessels\n",
        "\n",
        "# show resulting image\n",
        "plt.figure(figsize=(20, 10))\n",
        "plt.subplot(1, 2, 1)\n",
        "plt.imshow(sclera_masked[1])\n",
        "plt.subplot(1, 2, 2)\n",
        "plt.imshow(sclera_vessels_masked[1])\n",
        "plt.show()\n"
      ]
    },
    {
      "attachments": {},
      "cell_type": "markdown",
      "metadata": {
        "id": "wf_AgtDOVNG_"
      },
      "source": [
        "# Metrics calculation (BGR)"
      ]
    },
    {
      "cell_type": "code",
      "execution_count": null,
      "metadata": {
        "colab": {
          "base_uri": "https://localhost:8080/"
        },
        "id": "0_bpMdp0VNG_",
        "outputId": "86a3101f-5092-43a1-95c2-87d3614b2fde"
      },
      "outputs": [],
      "source": [
        "\n",
        "# sclera_masked\n",
        "# sclera_vessels_masked\n",
        "\n",
        "# calculate the metrics\n",
        "number_sclera_pixel = 0\n",
        "number_vessels_pixel = 0\n",
        "number_sclera_pixel_coulored = 0\n",
        "number_vessels_pixel_coulored = 0\n",
        "\n",
        "b = 0\n",
        "g = 0\n",
        "r = 0\n",
        "\n",
        "value_r_minous_g_pixel_sclera = 0\n",
        "value_r_minous_g_pixel_vessels = 0\n",
        "\n",
        "\n",
        "for l in tqdm(range(len(sclera_masked))):                               # Per ogni immagine della sclera\n",
        "    number_sclera_pixel = 0\n",
        "    number_vessels_pixel = 0\n",
        "    value_r_minous_g_pixel_sclera = 0\n",
        "    value_r_minous_g_pixel_vessels = 0\n",
        "\n",
        "    # counts coloured pixels\n",
        "    img_gray = cv2.cvtColor(sclera_masked[l], cv2.COLOR_BGR2GRAY)\n",
        "    _, img_binaria = cv2.threshold(img_gray, 1, 255, cv2.THRESH_BINARY)\n",
        "    number_sclera_pixel_coulored = cv2.countNonZero(img_binaria)\n",
        "\n",
        "    # counts total pixels\n",
        "    number_sclera_pixel = img_binaria.size\n",
        "\n",
        "    # sclera quantile initialization\n",
        "    b, g, r = cv2.split(sclera_masked[l])\n",
        "    value_r_minous_g_pixel_sclera = np.sum(r/10) - np.sum(g/10)\n",
        "\n",
        "    std_sclera = cv2.meanStdDev(r-g)[1]\n",
        "\n",
        "    quantile = np.empty((3, 3))\n",
        "    filtered_bgr = sclera_masked[l][:, :, 0]\n",
        "    filtered_bgr = filtered_bgr[filtered_bgr != 0]\n",
        "\n",
        "    # calculate all three quantiles\n",
        "    quantile[0] = np.quantile(filtered_bgr, [0.25, 0.5, 0.75])\n",
        "\n",
        "    filtered_bgr = sclera_masked[l][:, :, 1]\n",
        "    filtered_bgr = filtered_bgr[filtered_bgr != 0]\n",
        "\n",
        "    quantile[1] = np.quantile(filtered_bgr, [0.25, 0.5, 0.75])\n",
        "\n",
        "    filtered_bgr = sclera_masked[l][:, :, 2]\n",
        "    filtered_bgr = filtered_bgr[filtered_bgr != 0]\n",
        "\n",
        "    quantile[2] = np.quantile(filtered_bgr, [0.25, 0.5, 0.75])\n",
        "    sclera_quantiles_bgr.append(quantile)\n",
        "\n",
        "    # count coloured pixels\n",
        "    img_gray = cv2.cvtColor(sclera_vessels_masked[l], cv2.COLOR_BGR2GRAY)\n",
        "    _, img_binaria = cv2.threshold(img_gray, 1, 255, cv2.THRESH_BINARY)\n",
        "    number_vessels_pixel_coulored = cv2.countNonZero(img_binaria)\n",
        "\n",
        "    # count total pixels\n",
        "    number_vessels_pixel = img_binaria.size\n",
        "\n",
        "    # calculate the difference between r and g channel\n",
        "    b, g, r = cv2.split(sclera_vessels_masked[l])\n",
        "    value_r_minous_g_pixel_vessels = np.sum(r/10) - np.sum(g/10)\n",
        "\n",
        "    std_vessels = cv2.meanStdDev(r-g)[1]\n",
        "\n",
        "    # sclera quantile initialization\n",
        "    quantile = np.empty((3, 3))\n",
        "    filtered_bgr = sclera_vessels_masked[l][:, :, 0]\n",
        "    filtered_bgr = filtered_bgr[filtered_bgr != 0]\n",
        "\n",
        "    # calculate all three quantiles\n",
        "    quantile[0] = np.quantile(filtered_bgr, [0.25, 0.5, 0.75])\n",
        "\n",
        "    filtered_bgr = sclera_vessels_masked[l][:, :, 1]\n",
        "    filtered_bgr = filtered_bgr[filtered_bgr != 0]\n",
        "\n",
        "    quantile[1] = np.quantile(filtered_bgr, [0.25, 0.5, 0.75])\n",
        "\n",
        "    filtered_bgr = sclera_vessels_masked[l][:, :, 2]\n",
        "    filtered_bgr = filtered_bgr[filtered_bgr != 0]\n",
        "\n",
        "    quantile[2] = np.quantile(filtered_bgr, [0.25, 0.5, 0.75])\n",
        "    vessels_quantiles_bgr.append(quantile)\n",
        "\n",
        "    vessels_density.append(number_vessels_pixel_coulored/number_sclera_pixel_coulored)\n",
        "    #print(\"il valore di densità dei pixel dei vasi rispetto ai pixel della sclera per la\", l+1, \"° immagine è: \", vessels_density[l])\n",
        "    value_r_minous_g_img_sclera.append(value_r_minous_g_pixel_sclera/number_sclera_pixel)\n",
        "    #print(\"il valore medio dei pixel della sclera, calcolati come R - G, per la\", l+1, \"° immagine è: \",value_r_minous_g_img_sclera[l])\n",
        "    value_r_minous_g_img_vessels.append(value_r_minous_g_pixel_vessels/number_vessels_pixel)\n",
        "    #print(\"il valore medio dei pixel dei vasi, calcolati come R - G, per la\", l+1, \"° immagine è: \", value_r_minous_g_img_vessels[l])\n",
        "\n",
        "    dev_std_sclera.append(std_sclera)\n",
        "    dev_std_vessels.append(std_vessels)\n",
        "\n",
        "    #print(\"i quantili della sclera\", l+1, \"° sono:\\n\", sclera_quantiles_bgr[l])\n",
        "    #print(\"i quantili dei vasi\", l+1, \"° sono:\\n\", vessels_quantiles_bgr[l])\n",
        "\n"
      ]
    },
    {
      "attachments": {},
      "cell_type": "markdown",
      "metadata": {
        "id": "z08LQK04G3pP"
      },
      "source": [
        "# Conversion cielab, increase contrast and clahe equalitation (optional)\n",
        "\n",
        "If you don't want to use clahe equalitation use the first cell, otherwise use the second"
      ]
    },
    {
      "attachments": {},
      "cell_type": "markdown",
      "metadata": {
        "id": "UwsCBCoMfw_X"
      },
      "source": [
        "### Without clahe eq."
      ]
    },
    {
      "cell_type": "code",
      "execution_count": null,
      "metadata": {
        "colab": {
          "base_uri": "https://localhost:8080/",
          "height": 0
        },
        "id": "LKCfMnVxmy2V",
        "outputId": "7c6626d1-5181-498f-8b73-c67d44772e40"
      },
      "outputs": [],
      "source": [
        "sclera_lab = []\n",
        "sclera_vessels_lab = []\n",
        "\n",
        "sclera_es = cv2.cvtColor(sclera_masked[1], cv2.COLOR_BGR2LAB)       # saving an image to compare with a converted one\n",
        "\n",
        "for i in tqdm(range(len(sclera_masked))):\n",
        "\n",
        "  # format conversion --> contrast enhancement --> insertion in list\n",
        "  img_lab = cv2.cvtColor(sclera_masked[i], cv2.COLOR_BGR2LAB)\n",
        "  img_lab[:, :, 1] = cv2.multiply(img_lab[:, :, 1], 1.2)\n",
        "  sclera_lab.append(img_lab)\n",
        "\n",
        "\n",
        "del sclera_masked\n",
        "\n",
        "# Comparison between image with and without contrast enhancement\n",
        "plt.figure(figsize=(20, 10))\n",
        "plt.subplot(1, 2, 1)\n",
        "plt.imshow(sclera_es)\n",
        "plt.subplot(1, 2, 2)\n",
        "plt.imshow(sclera_lab[1])\n",
        "plt.show()\n",
        "\n",
        "# Convert vessels to Lab format\n",
        "vessel_es = cv2.cvtColor(sclera_vessels_masked[1], cv2.COLOR_BGR2LAB)       # saving an image to compare with a converted one\n",
        "for i in tqdm(range(len(sclera_vessels_masked))):\n",
        "\n",
        "  # format conversion --> contrast enhancement --> insertion in list\n",
        "  img_lab = cv2.cvtColor(sclera_vessels_masked[i], cv2.COLOR_BGR2LAB)\n",
        "  img_lab[:, :, 1] = cv2.multiply(img_lab[:, :, 1], 1.2)\n",
        "  sclera_vessels_lab.append(img_lab)\n",
        "\n",
        "# Free up memory space\n",
        "del sclera_vessels_masked\n",
        "\n",
        "# Comparison between image with and without contrast enhancement\n",
        "plt.figure(figsize=(20, 10))\n",
        "plt.subplot(1, 2, 1)\n",
        "plt.imshow(vessel_es)\n",
        "plt.subplot(1, 2, 2)\n",
        "plt.imshow(sclera_vessels_lab[1])\n",
        "plt.show()\n"
      ]
    },
    {
      "attachments": {},
      "cell_type": "markdown",
      "metadata": {
        "id": "sQibwMsWcJ2t"
      },
      "source": [
        "### With also clahe eq."
      ]
    },
    {
      "cell_type": "code",
      "execution_count": null,
      "metadata": {
        "colab": {
          "base_uri": "https://localhost:8080/"
        },
        "id": "NPNWqUrPcIGZ",
        "outputId": "cf3ee4c9-8020-4f94-ae88-076d5652d652"
      },
      "outputs": [],
      "source": [
        "sclera_lab = []\n",
        "sclera_vessels_lab = []\n",
        "\n",
        "sclera_es = cv2.cvtColor(sclera_masked[1], cv2.COLOR_BGR2LAB)       # saving an image to compare with a converted one\n",
        "\n",
        "for l in tqdm(range(len(sclera_masked))):\n",
        "\n",
        "  # format conversion --> contrast enhancement --> insertion in list\n",
        "  img_lab = cv2.cvtColor(sclera_masked[l], cv2.COLOR_BGR2LAB)\n",
        "\n",
        "  # Applies adaptive histogram equalization to all channels (L, a, b) of the Lab image\n",
        "  clahe = cv2.createCLAHE(clipLimit=1.82, tileGridSize=(8, 8))\n",
        "  image_lab_eq = img_lab.copy()\n",
        "  for i in range(3):\n",
        "    image_lab_eq[:, :, i] = clahe.apply(image_lab_eq[:, :, i])\n",
        "\n",
        "  # Applies contrast to Lab image\n",
        "  image_lab_eq[:, :, 1] = cv2.multiply(image_lab_eq[:, :, 1], 1.2)\n",
        "\n",
        "  L1, a1, b1 = cv2.split(img_lab)\n",
        "  L2, a2, b2 = cv2.split(image_lab_eq)\n",
        "  m = cv2.inRange(img_lab, (0, 128, 128), (0, 128, 128))\n",
        "\n",
        "  result_L2 = cv2.bitwise_and(L2, L2, mask=~m)\n",
        "  result_a2 = cv2.bitwise_and(a2, a2, mask=~m)\n",
        "  result_b2 = cv2.bitwise_and(b2, b2, mask=~m)\n",
        "  image_lab_eq = cv2.merge((result_L2, result_a2, result_b2))\n",
        "\n",
        "  # Crea una maschera dei pixel neri\n",
        "  black_pixels = (image_lab_eq == [0, 0, 0]).all(axis=2)\n",
        "  # Applica la maschera per convertire solo i pixel neri\n",
        "  image_lab_eq[black_pixels] = [0, 154, 128]\n",
        "\n",
        "  sclera_lab.append(image_lab_eq)\n",
        "\n",
        "del img_lab, clahe, image_lab_eq, L1, a1, b1, L2, a2, b2, m, result_L2, result_a2, result_b2, black_pixels\n",
        "del sclera_masked\n",
        "\n",
        "# Comparison between image with and without contrast enhancement\n",
        "plt.figure(figsize=(20, 10))\n",
        "plt.subplot(1, 2, 1)\n",
        "plt.imshow(sclera_es)\n",
        "plt.subplot(1, 2, 2)\n",
        "plt.imshow(sclera_lab[1])\n",
        "plt.show()\n",
        "\n",
        "# Lab vessels conversion\n",
        "vessel_es = cv2.cvtColor(sclera_vessels_masked[1], cv2.COLOR_BGR2LAB)       # saving an image to compare with a converted one\n",
        "for l in tqdm(range(len(sclera_vessels_masked))):\n",
        "\n",
        "  # format conversion --> contrast enhancement --> insertion in list\n",
        "  img_lab = cv2.cvtColor(sclera_vessels_masked[l], cv2.COLOR_BGR2LAB)\n",
        "\n",
        "  # Applies adaptive histogram equalization to all channels (L, a, b) of the Lab image\n",
        "  clahe = cv2.createCLAHE(clipLimit=1.6, tileGridSize=(8, 8))\n",
        "  image_lab_eq = img_lab.copy()\n",
        "  for i in range(3):\n",
        "    image_lab_eq[:, :, i] = clahe.apply(image_lab_eq[:, :, i])\n",
        "\n",
        "  # Apply contrast\n",
        "  image_lab_eq[:, :, 1] = cv2.multiply(image_lab_eq[:, :, 1], 1.2)\n",
        "  \n",
        "  L1, a1, b1 = cv2.split(img_lab)\n",
        "  L2, a2, b2 = cv2.split(image_lab_eq)\n",
        "  m = cv2.inRange(img_lab, (0, 128, 128), (0, 128, 128))\n",
        "\n",
        "  result_L2 = cv2.bitwise_and(L2, L2, mask=~m)\n",
        "  result_a2 = cv2.bitwise_and(a2, a2, mask=~m)\n",
        "  result_b2 = cv2.bitwise_and(b2, b2, mask=~m)\n",
        "  image_lab_eq = cv2.merge((result_L2, result_a2, result_b2))\n",
        "\n",
        "  # Crea una maschera dei pixel neri\n",
        "  black_pixels = (image_lab_eq == [0, 0, 0]).all(axis=2)\n",
        "  # Applica la maschera per convertire solo i pixel neri\n",
        "  image_lab_eq[black_pixels] = [0, 154, 128]\n",
        "\n",
        "  sclera_vessels_lab.append(image_lab_eq)\n",
        "\n",
        "# Free up memory space\n",
        "del img_lab, clahe, image_lab_eq, L1, a1, b1, L2, a2, b2, m, result_L2, result_a2, result_b2, black_pixels\n",
        "del sclera_vessels_masked\n",
        "\n",
        "# Comparison between image with and without contrast enhancement\n",
        "plt.figure(figsize=(20, 10))\n",
        "plt.subplot(1, 2, 1)\n",
        "plt.imshow(vessel_es)\n",
        "plt.subplot(1, 2, 2)\n",
        "plt.imshow(sclera_vessels_lab[1])\n",
        "plt.show()\n"
      ]
    },
    {
      "attachments": {},
      "cell_type": "markdown",
      "metadata": {
        "id": "gzUEkYbLVNHA"
      },
      "source": [
        "\n",
        "## Metrics calculation (Lab)"
      ]
    },
    {
      "cell_type": "code",
      "execution_count": null,
      "metadata": {
        "colab": {
          "base_uri": "https://localhost:8080/"
        },
        "id": "S6jNzON7VNHA",
        "outputId": "252fce92-f535-4a59-de4b-3ade91feec15"
      },
      "outputs": [],
      "source": [
        "# Calculate the metrics\n",
        "number_sclera_pixel = 0\n",
        "number_vessels_pixel = 0\n",
        "number_sclera_pixel_coulored = 0\n",
        "number_vessels_pixel_coulored = 0\n",
        "\n",
        "L = 0\n",
        "a = 0\n",
        "b = 0\n",
        "\n",
        "value_a_pixel_sclera = 0\n",
        "value_a_pixel_vessels = 0\n",
        "\n",
        "\n",
        "for l in tqdm(range(len(sclera_lab))):                               # for each image in sclera_lab\n",
        "    number_sclera_pixel = 0\n",
        "    number_vessels_pixel = 0\n",
        "    value_a_pixel_sclera = 0\n",
        "    value_a_pixel_vessels = 0\n",
        "\n",
        "\n",
        "    # count total pixels\n",
        "    number_sclera_pixel = img_binaria.size\n",
        "\n",
        "    # Calculate the sum of each a* value\n",
        "    L, a, b = cv2.split(sclera_lab[l])\n",
        "    value_a_pixel_sclera = np.sum(a/10)\n",
        "\n",
        "    std_sclera = cv2.meanStdDev(a)[1]\n",
        "\n",
        "    # sclera quantile inizialization\n",
        "    quantile = np.empty((3, 3))\n",
        "    filtered_lab = sclera_lab[l][:, :, 0]\n",
        "    filtered_lab = filtered_lab[filtered_lab != 0]\n",
        "\n",
        "    # calculate all three quantiles\n",
        "    quantile[0] = np.quantile(filtered_lab, [0.25, 0.5, 0.75])\n",
        "\n",
        "    filtered_lab = sclera_lab[l][:, :, 1]\n",
        "    filtered_lab = filtered_lab[filtered_lab != 154]\n",
        "\n",
        "    quantile[1] = np.quantile(filtered_lab, [0.25, 0.5, 0.75])\n",
        "\n",
        "    filtered_lab = sclera_lab[l][:, :, 2]\n",
        "    filtered_lab = filtered_lab[filtered_lab != 128]\n",
        "\n",
        "    quantile[2] = np.quantile(filtered_lab, [0.25, 0.5, 0.75])\n",
        "    sclera_quantiles_lab.append(quantile)\n",
        "\n",
        "\n",
        "    # count coloured pixels\n",
        "    lab_to_bgr = cv2.cvtColor(sclera_vessels_lab[l], cv2.COLOR_LAB2BGR)\n",
        "    img_gray = cv2.cvtColor(lab_to_bgr, cv2.COLOR_BGR2GRAY)\n",
        "    _, img_binaria = cv2.threshold(img_gray, 1, 255, cv2.THRESH_BINARY)\n",
        "    number_vessels_pixel_coulored = cv2.countNonZero(img_binaria)\n",
        "\n",
        "    # count total pixels\n",
        "    number_vessels_pixel = img_binaria.size\n",
        "\n",
        "    # Calculate the sum of each a* value\n",
        "    L, a, b = cv2.split(sclera_vessels_lab[l])\n",
        "    value_a_pixel_vessels = np.sum(a/10)\n",
        "\n",
        "    std_vessels_L = cv2.meanStdDev(L)[1]\n",
        "    std_vessels_b = cv2.meanStdDev(b)[1]\n",
        "\n",
        "    # sclera quantile inizialization\n",
        "    quantile = np.empty((3, 3))\n",
        "    filtered_lab = sclera_vessels_lab[l][:, :, 0]\n",
        "    filtered_lab = filtered_lab[filtered_lab != 0]\n",
        "\n",
        "    # calculate all three quantiles\n",
        "    quantile[0] = np.quantile(filtered_lab, [0.25, 0.5, 0.75])\n",
        "\n",
        "    filtered_lab = sclera_vessels_lab[l][:, :, 1]\n",
        "    filtered_lab = filtered_lab[filtered_lab != 154]\n",
        "\n",
        "    quantile[1] = np.quantile(filtered_lab, [0.25, 0.5, 0.75])\n",
        "\n",
        "    filtered_lab = sclera_vessels_lab[l][:, :, 2]\n",
        "    filtered_lab = filtered_lab[filtered_lab != 128]\n",
        "\n",
        "    quantile[2] = np.quantile(filtered_lab, [0.25, 0.5, 0.75])\n",
        "    vessels_quantiles_lab.append(quantile)\n",
        "\n",
        "\n",
        "    vessels_density_lab = vessels_density.copy()\n",
        "    #print(\"il valore di densità dei pixel dei vasi rispetto ai pixel della sclera per la\", l+1, \"° immagine è: \", vessels_density[l])\n",
        "    value_a_img_sclera.append(value_a_pixel_sclera/number_sclera_pixel)\n",
        "    #print(\"il valore medio dei pixel della sclera, calcolati come a*, per la\", l+1, \"° immagine è: \",value_a_img_sclera[l])\n",
        "    value_a_img_vessels.append(value_a_pixel_vessels/number_vessels_pixel)\n",
        "    #print(\"il valore medio dei pixel dei vasi, calcolati come a*, per la\", l+1, \"° immagine è: \", value_a_img_vessels[l])\n",
        "\n",
        "    dev_std_sclera_cielab.append(std_sclera)\n",
        "    dev_std_vessels_cielab.append([std_vessels_L, std_vessels_b])\n",
        "\n",
        "\n",
        "    #print(\"i quantili della sclera\", l+1, \"° sono:\\n\", sclera_quantiles_lab[l])\n",
        "    #print(\"i quantili dei vasi\", l+1, \"° sono:\\n\", vessels_quantiles_lab[l])\n",
        "\n",
        "\n",
        "\n",
        "del sclera_lab\n",
        "del sclera_vessels_lab"
      ]
    },
    {
      "attachments": {},
      "cell_type": "markdown",
      "metadata": {
        "id": "FSDBzZ5WrT7a"
      },
      "source": [
        "# Extract white of sclera"
      ]
    },
    {
      "cell_type": "code",
      "execution_count": null,
      "metadata": {
        "colab": {
          "base_uri": "https://localhost:8080/",
          "height": 0
        },
        "id": "D-yM-gyirTVn",
        "outputId": "d5d7ca8a-c0c3-489d-f274-dfe04b5cc0de"
      },
      "outputs": [],
      "source": [
        "if not RAM_16_GB:\n",
        "        sclera_masks = np.load(\"sclera_masks.npy\")\n",
        "        sclera_masks_bw = np.load(\"sclera_masks_bw.npy\")\n",
        "        sclera_vessels = np.load(\"sclera_vessels.npy\")\n",
        "        sclera_vessels_bw = np.load(\"sclera_vessels_bw.npy\")\n",
        "\n",
        "for l in tqdm(range(len(sclera_masks))):\n",
        "\n",
        "        sclera_vessels_bw[l] = cv2.bitwise_not(sclera_vessels_bw[l])\n",
        "        maschera = cv2.bitwise_and(sclera_masks_bw[l], sclera_vessels_bw[l])\n",
        "        maschera =  cv2.resize(maschera, sclera_masks[l].shape[:2][::-1])\n",
        "\n",
        "        # Get the image of the sclera only\n",
        "        vessels_colors_white = cv2.bitwise_and(sclera_masks[l], sclera_masks[l], mask=maschera)\n",
        "        vessels_colors_white = cv2.cvtColor(vessels_colors_white, cv2.COLOR_BGR2LAB)\n",
        "\n",
        "        # Calculate standard deviation of both L* and b* channel\n",
        "        L, a, b = cv2.split(vessels_colors_white)\n",
        "        std_vessels_color_white_L = cv2.meanStdDev(L)[1]\n",
        "        std_vessels_color_white_b = cv2.meanStdDev(b)[1]\n",
        "\n",
        "        vessels_colors_white_deviations_cielab.append([std_vessels_color_white_L, std_vessels_color_white_b])\n",
        "\n",
        "        # Initialization of vessel quantiles\n",
        "        quantile = np.empty((3, 3))\n",
        "        filtered_lab = vessels_colors_white[:, :, 0]\n",
        "        filtered_lab = filtered_lab[filtered_lab != 0]\n",
        "\n",
        "        # calculate all three quantiles\n",
        "        quantile[0] = np.quantile(filtered_lab, [0.25, 0.5, 0.75])\n",
        "\n",
        "        filtered_lab = vessels_colors_white[:, :, 1]\n",
        "        filtered_lab = filtered_lab[filtered_lab != 154]\n",
        "\n",
        "        quantile[1] = np.quantile(filtered_lab, [0.25, 0.5, 0.75])\n",
        "\n",
        "        filtered_lab = vessels_colors_white[:, :, 2]\n",
        "        filtered_lab = filtered_lab[filtered_lab != 128]\n",
        "\n",
        "        quantile[2] = np.quantile(filtered_lab, [0.25, 0.5, 0.75])\n",
        "\n",
        "        vessels_colors_white_quantiles_cielab.append(quantile)\n",
        "\n",
        "\n",
        "plt.figure(figsize=(20, 10))\n",
        "plt.subplot(1, 2, 1)\n",
        "plt.imshow(vessels_colors_white)\n",
        "plt.show()\n",
        "\n",
        "del sclera_masks\n",
        "del sclera_masks_bw\n",
        "del sclera_vessels\n",
        "del sclera_vessels_bw"
      ]
    },
    {
      "attachments": {},
      "cell_type": "markdown",
      "metadata": {},
      "source": [
        "#### Make sure you have loaded and preprocessed indian dataset as well before proceeding with the evaluation"
      ]
    },
    {
      "attachments": {},
      "cell_type": "markdown",
      "metadata": {},
      "source": [
        "# Evaluation"
      ]
    },
    {
      "attachments": {},
      "cell_type": "markdown",
      "metadata": {
        "id": "ujGliQ-gIYKz"
      },
      "source": [
        "## Preliminary stages classifier\n",
        "\n",
        "You can choose only one features preparation.\n",
        "They use different metrics from each other."
      ]
    },
    {
      "attachments": {},
      "cell_type": "markdown",
      "metadata": {
        "id": "IRaw8bQg8ZI7"
      },
      "source": [
        "### Features preparation (1)"
      ]
    },
    {
      "cell_type": "code",
      "execution_count": null,
      "metadata": {
        "colab": {
          "base_uri": "https://localhost:8080/"
        },
        "id": "yHZY5AhU8YWz",
        "outputId": "76ae5128-ddc4-44d4-93ec-07286b5dd03b"
      },
      "outputs": [],
      "source": [
        "# prepare features for the model\n",
        "X = []\n",
        "\n",
        "# Iterate on metrics to obtain features\n",
        "for index, (\n",
        "    color_density,\n",
        "    color_quantiles,\n",
        "    color_deviation,\n",
        "    white_deviation_cielab,\n",
        "    white_quantiles_cielab\n",
        ") in tqdm(\n",
        "    enumerate(zip(\n",
        "        vessels_density_lab,\n",
        "        vessels_quantiles_lab,\n",
        "        dev_std_vessels_cielab,\n",
        "        vessels_colors_white_deviations_cielab,\n",
        "        vessels_colors_white_quantiles_cielab\n",
        "    )),\n",
        "    total=len(vessels_density_lab)\n",
        "):\n",
        "    # Feature light\n",
        "    light_vessel = color_quantiles[0][1]                                        # median of the L channel of blood vessels\n",
        "    diff_light = white_quantiles_cielab[0][2] - color_quantiles[0][2]           # difference between the third quantiles of L channel\n",
        "    diff_deviations_light = color_deviation[0] - white_deviation_cielab[0]      # difference between deviations of L channel\n",
        "\n",
        "    # Feature red\n",
        "    A_star = color_density\n",
        "    diff_red = color_quantiles[1][2] - white_quantiles_cielab[1][2]             # difference between the third quantiles of L channel\n",
        "\n",
        "    # Feature blue\n",
        "    diff_blue = white_quantiles_cielab[2][0] - color_quantiles[2][2]            # difference between first quantile of white part of sclera and third quantile of vessels\n",
        "    diff_deviations_blue = color_deviation[1] - white_deviation_cielab[1]       # difference between deviation fo b channel\n",
        "\n",
        "    # add feature to X list\n",
        "    X.append([\n",
        "        A_star, diff_red, # feature red\n",
        "        light_vessel, diff_light, diff_deviations_light,  # feature light\n",
        "        diff_blue, diff_deviations_blue,  # feature blue\n",
        "    ])"
      ]
    },
    {
      "attachments": {},
      "cell_type": "markdown",
      "metadata": {
        "id": "_Q1EshJP9JEY"
      },
      "source": [
        "### Features preparation (2)"
      ]
    },
    {
      "cell_type": "code",
      "execution_count": null,
      "metadata": {
        "colab": {
          "base_uri": "https://localhost:8080/"
        },
        "id": "IsPg8gNr9RsW",
        "outputId": "5a54defb-81e6-4f09-bc47-8e96366d6b5d"
      },
      "outputs": [],
      "source": [
        "# prepare features for the model\n",
        "X = []\n",
        "\n",
        "# Iterate on metrics to obtain features\n",
        "for index, (\n",
        "     density,\n",
        "     rg_img_sclera,\n",
        "     rg_img_vessels,\n",
        "     devstd_sclera,\n",
        "     devstd_vessels,\n",
        "     sclera_quantile_bgr,\n",
        "     vessels_quantile_bgr,\n",
        "\n",
        "     a_img_sclera,\n",
        "     a_img_vessels,\n",
        "     devstd_sclera_cielab,\n",
        "     devstd_vessels_cielab,\n",
        "     sclera_quantile_lab,\n",
        "     vessels_quantile_lab\n",
        ") in tqdm(\n",
        "    enumerate(zip(\n",
        "        vessels_density,\n",
        "        value_r_minous_g_img_sclera,\n",
        "        value_r_minous_g_img_vessels,\n",
        "        dev_std_sclera,\n",
        "        dev_std_vessels,\n",
        "        sclera_quantiles_bgr,\n",
        "        vessels_quantiles_bgr,\n",
        "\n",
        "        value_a_img_sclera,\n",
        "        value_a_img_vessels,\n",
        "        dev_std_sclera_cielab,\n",
        "        dev_std_vessels_cielab,\n",
        "        sclera_quantiles_lab,\n",
        "        vessels_quantiles_lab\n",
        "    )),\n",
        "    total=len(vessels_density_lab)\n",
        "):\n",
        "\n",
        "    one = density\n",
        "    two = rg_img_sclera\n",
        "    tree = rg_img_vessels\n",
        "    four = devstd_sclera\n",
        "    five = devstd_vessels\n",
        "    six = sclera_quantile_bgr[2][2]\n",
        "    seven = vessels_quantile_bgr[2][2]\n",
        "    eight = a_img_sclera\n",
        "    nine = a_img_vessels\n",
        "    ten = devstd_sclera_cielab\n",
        "    #eleven = devstd_vessels_cielab[0][0]\n",
        "    dodici = sclera_quantile_lab[2][2]\n",
        "    #tredici = vessels_quantile_lab[2][2]\n",
        "\n",
        "    # add feature to X list\n",
        "    X.append([\n",
        "        one,\n",
        "        two,\n",
        "        tree,\n",
        "        four,\n",
        "        five,\n",
        "        six,\n",
        "        seven,\n",
        "        eight,\n",
        "        nine,\n",
        "        ten,\n",
        "        dodici\n",
        "    ])"
      ]
    },
    {
      "attachments": {},
      "cell_type": "markdown",
      "metadata": {
        "id": "NMBf3xuQL-EL"
      },
      "source": [
        "### Features preparation (3) (merge of better)"
      ]
    },
    {
      "cell_type": "code",
      "execution_count": null,
      "metadata": {
        "colab": {
          "base_uri": "https://localhost:8080/"
        },
        "id": "FieOIZz8L-EP",
        "outputId": "c482f7c4-a19f-4a21-d0bb-f09bdc9c9bc8"
      },
      "outputs": [],
      "source": [
        "# prepare features for the model\n",
        "X = []\n",
        "\n",
        "# Iterate on metrics to obtain features\n",
        "for index, (\n",
        "     density,\n",
        "     rg_img_sclera,\n",
        "     rg_img_vessels,\n",
        "     devstd_sclera,\n",
        "     devstd_vessels,\n",
        "     sclera_quantile_bgr,\n",
        "     vessels_quantile_bgr,\n",
        "\n",
        "     a_img_sclera,\n",
        "     a_img_vessels,\n",
        "     devstd_sclera_cielab,\n",
        "     devstd_vessels_cielab,\n",
        "     sclera_quantile_lab,\n",
        "     vessels_quantile_lab,\n",
        "     white_deviation_cielab,\n",
        "     white_quantile_cielab\n",
        ") in tqdm(\n",
        "    enumerate(zip(\n",
        "        vessels_density,\n",
        "        value_r_minous_g_img_sclera,\n",
        "        value_r_minous_g_img_vessels,\n",
        "        dev_std_sclera,\n",
        "        dev_std_vessels,\n",
        "        sclera_quantiles_bgr,\n",
        "        vessels_quantiles_bgr,\n",
        "\n",
        "        value_a_img_sclera,\n",
        "        value_a_img_vessels,\n",
        "        dev_std_sclera_cielab,\n",
        "        dev_std_vessels_cielab,\n",
        "        sclera_quantiles_lab,\n",
        "        vessels_quantiles_lab,\n",
        "        vessels_colors_white_deviations_cielab,\n",
        "        vessels_colors_white_quantiles_cielab\n",
        "    )),\n",
        "    total=len(vessels_density_lab)\n",
        "):\n",
        "\n",
        "    one = density\n",
        "    #two = rg_img_sclera\n",
        "    tree = rg_img_vessels\n",
        "    four = devstd_sclera - devstd_vessels\n",
        "    six = sclera_quantile_bgr[2][1]\n",
        "    #seven = vessels_quantile_bgr[2][1]\n",
        "    eight = a_img_sclera - a_img_vessels\n",
        "    nine = a_img_vessels\n",
        "    ten = devstd_sclera_cielab\n",
        "    eleven = vessels_quantile_lab[0][1]     #light_vessels\n",
        "    dodici = sclera_quantile_lab[2][2] - vessels_quantile_lab[2][2] #diff_blue\n",
        "\n",
        "    # add feature to X list\n",
        "    X.append([\n",
        "        one,\n",
        "        #two,\n",
        "        tree,\n",
        "        four,\n",
        "        six,\n",
        "        #seven,\n",
        "        eight,\n",
        "        nine,\n",
        "        ten,\n",
        "        eleven,\n",
        "        dodici\n",
        "    ])"
      ]
    },
    {
      "attachments": {},
      "cell_type": "markdown",
      "metadata": {
        "id": "6Epkxq5Z9ruy"
      },
      "source": [
        "### Load hb values"
      ]
    },
    {
      "cell_type": "code",
      "execution_count": null,
      "metadata": {
        "colab": {
          "base_uri": "https://localhost:8080/"
        },
        "id": "wu3jP55q92kj",
        "outputId": "e5daf7dc-60be-4637-9663-8405c997dbfd"
      },
      "outputs": [],
      "source": [
        "# Build y list\n",
        "y = []\n",
        "for index, row in tqdm(df.iterrows(), total=df.shape[0]):\n",
        "\n",
        "    # takes the hemoglobin value and converts it to float\n",
        "    hb = float(row['hb'].replace(',', '.'))\n",
        "\n",
        "    # anemic/non anemic assignment\n",
        "    if hb < 12.5:\n",
        "        y.append(1)\n",
        "    else:\n",
        "        y.append(0)\n"
      ]
    },
    {
      "attachments": {},
      "cell_type": "markdown",
      "metadata": {
        "id": "kI3ihKFZMVpR"
      },
      "source": [
        "# Grid searchers\n",
        "\n",
        "A grid search for each model"
      ]
    },
    {
      "cell_type": "code",
      "execution_count": null,
      "metadata": {},
      "outputs": [],
      "source": [
        "# score to optimize in each grid search\n",
        "f2_score = make_scorer(fbeta_score, beta=2)\n",
        "\n",
        "def print_scores(model):\n",
        "    scores = cross_val_score(model, X, y, cv=5, scoring='f1')\n",
        "    print(\"f1: \", scores.mean())\n",
        "\n",
        "    scores = cross_val_score(model, X, y, cv=5, scoring=f2_score)\n",
        "    print(\"f2: \", scores.mean())\n",
        "\n",
        "    scores = cross_val_score(model, X, y, cv=5, scoring='recall')\n",
        "    print(\"recall: \", scores.mean())\n",
        "\n",
        "    scores = cross_val_score(model, X, y, cv=5, scoring='precision')\n",
        "    print(\"precision: \", scores.mean())\n",
        "\n",
        "    scores = cross_val_score(model, X, y, cv=5, scoring='accuracy')\n",
        "    print(\"accuracy: \", scores.mean())\n",
        "\n",
        "    scores = cross_val_score(model, X, y, cv=5, scoring='roc_auc')\n",
        "    print(\"roc_auc: \", scores.mean())"
      ]
    },
    {
      "attachments": {},
      "cell_type": "markdown",
      "metadata": {
        "id": "FgOqf8ztD-UV"
      },
      "source": [
        "## SVC Linear"
      ]
    },
    {
      "cell_type": "code",
      "execution_count": 20,
      "metadata": {
        "colab": {
          "base_uri": "https://localhost:8080/"
        },
        "id": "TZtHR3QgDFDE",
        "outputId": "36e19908-0d62-47fc-8d7e-e9ca5352dce6"
      },
      "outputs": [],
      "source": [
        "# Definizione dei parametri da testare\n",
        "parameters = {'kernel': ['linear'], 'C': [1, 3, 5, 7, 10, 20, 50, 100, 1000, 10000],\n",
        "              'gamma': [0.001, 0.0001], 'degree': [1, 2, 3, 4, 5], 'coef0': [0.001, 0.01, 0.1, 1, 10]}\n",
        "\n",
        "# Creazione del classificatore\n",
        "clf = SVC()\n",
        "\n",
        "# Creazione dell'oggetto GridSearchCV\n",
        "grid_search = GridSearchCV(clf, parameters, scoring=f2_score, cv=5)\n",
        "\n",
        "# Esecuzione della grid search\n",
        "grid_search.fit(X, y)\n",
        "\n",
        "best_params = grid_search.best_params_\n",
        "\n",
        "# Visualizzazione dei risultati\n",
        "print(\"Miglior combinazione di parametri: \", best_params)\n",
        "\n",
        "# train the model with the best parameters\n",
        "clf = SVC(kernel='linear', C=best_params['C'], gamma=best_params['gamma'], degree=best_params['degree'],)\n",
        "\n",
        "print_scores(clf)"
      ]
    },
    {
      "attachments": {},
      "cell_type": "markdown",
      "metadata": {
        "id": "LXUnWMJlEXsx"
      },
      "source": [
        "## KNN"
      ]
    },
    {
      "cell_type": "code",
      "execution_count": null,
      "metadata": {
        "colab": {
          "base_uri": "https://localhost:8080/"
        },
        "id": "kXskye9wEXs4",
        "outputId": "0d3e3ba5-3221-41e0-93cd-9386bdab53ff"
      },
      "outputs": [],
      "source": [
        "# Definizione dei parametri da testare\n",
        "parameters = {'n_neighbors': [3, 5, 7, 9, 11, 13, 15]}\n",
        "\n",
        "# Crea l'oggetto KNeighborsClassifier\n",
        "knn = KNeighborsClassifier()\n",
        "\n",
        "# Crea l'oggetto GridSearchCV\n",
        "grid_search = GridSearchCV(knn, parameters, cv=5, scoring=f2_score)\n",
        "\n",
        "# Esecuzione della grid search\n",
        "grid_search.fit(X, y)\n",
        "\n",
        "best_params = grid_search.best_params_\n",
        "\n",
        "# Visualizzazione dei risultati\n",
        "print(\"Miglior combinazione di parametri: \", best_params)\n",
        "\n",
        "# train the model with the best parameters\n",
        "clf = KNeighborsClassifier(n_neighbors=best_params['n_neighbors'])\n",
        "\n",
        "print_scores(clf)"
      ]
    },
    {
      "attachments": {},
      "cell_type": "markdown",
      "metadata": {
        "id": "TjnHutoqJy9k"
      },
      "source": [
        "## Random forest"
      ]
    },
    {
      "cell_type": "code",
      "execution_count": null,
      "metadata": {
        "colab": {
          "base_uri": "https://localhost:8080/"
        },
        "id": "X_hq8b9AJ5J-",
        "outputId": "ab91b450-93ce-48a5-b144-b1412fc11260"
      },
      "outputs": [],
      "source": [
        "# Definizione dei parametri da testare\n",
        "param_grid = {\n",
        "    'n_estimators': [10, 25, 50, 75, 100, 200, 300],\n",
        "    'min_samples_split': [2, 5, 10, 15, 20, 25, 30],\n",
        "}\n",
        "\n",
        "# Crea l'oggetto RandomForestClassifier\n",
        "random_forest = RandomForestClassifier()\n",
        "\n",
        "# Crea l'oggetto GridSearchCV\n",
        "grid_search = GridSearchCV(random_forest, param_grid, cv=5, scoring=f2_score)\n",
        "\n",
        "# Esecuzione della grid search\n",
        "grid_search.fit(X, y)\n",
        "\n",
        "best_params = grid_search.best_params_\n",
        "\n",
        "# Visualizzazione dei risultati\n",
        "print(\"Miglior combinazione di parametri: \", best_params)\n",
        "\n",
        "# train the model with the best parameters\n",
        "clf = RandomForestClassifier(n_estimators=best_params['n_estimators'], min_samples_split=best_params['min_samples_split'])\n",
        "\n",
        "print_scores(clf)"
      ]
    },
    {
      "attachments": {},
      "cell_type": "markdown",
      "metadata": {
        "id": "rNUMmF9bI_zl"
      },
      "source": [
        "## Adaboost"
      ]
    },
    {
      "cell_type": "code",
      "execution_count": null,
      "metadata": {
        "id": "TTnY8K_mJAEL"
      },
      "outputs": [],
      "source": [
        "# Definisci la griglia dei parametri da testare\n",
        "param_grid = {\n",
        "    'n_estimators': [3, 5, 10, 15, 25, 50, 75, 100, 200],\n",
        "    'learning_rate': [0.01, 0.05, 0.1, 0.3, 0.5, 1],\n",
        "}\n",
        "\n",
        "# Crea l'oggetto AdaBoostClassifier\n",
        "adaboost = AdaBoostClassifier()\n",
        "\n",
        "# Crea l'oggetto GridSearchCV\n",
        "grid_search = GridSearchCV(adaboost, param_grid, cv=5, scoring=f2_score)\n",
        "\n",
        "# Esecuzione della grid search\n",
        "grid_search.fit(X, y)\n",
        "\n",
        "best_params = grid_search.best_params_\n",
        "\n",
        "# Visualizzazione dei risultati\n",
        "print(\"Miglior combinazione di parametri: \", best_params)\n",
        "\n",
        "# train the model with the best parameters\n",
        "clf = AdaBoostClassifier(n_estimators=best_params['n_estimators'], learning_rate=best_params['learning_rate'])\n",
        "\n",
        "print_scores(clf)"
      ]
    },
    {
      "attachments": {},
      "cell_type": "markdown",
      "metadata": {
        "id": "_u0to2RUKbD6"
      },
      "source": [
        "## SVC Polynomial"
      ]
    },
    {
      "cell_type": "code",
      "execution_count": null,
      "metadata": {
        "colab": {
          "base_uri": "https://localhost:8080/"
        },
        "id": "UDwUfjUTKgGD",
        "outputId": "61cf5c34-a5d1-4ad3-c219-2b7310bd4927"
      },
      "outputs": [],
      "source": [
        "# Definisci la griglia dei parametri da testare\n",
        "param_grid = {\n",
        "    'kernel': ['poly'],\n",
        "    'C': [0.1, 1, 10, 100, 1000, 10000, 10000],\n",
        "    'degree': [2, 3, 4, 5, 6, 7]\n",
        "}\n",
        "\n",
        "# Crea l'oggetto SVC con kernel polinomiale\n",
        "svc_poly = SVC()\n",
        "\n",
        "# Crea l'oggetto GridSearchCV\n",
        "grid_search = GridSearchCV(svc_poly, param_grid, cv=5, scoring=f2_score)\n",
        "\n",
        "# Esecuzione della grid search\n",
        "grid_search.fit(X, y)\n",
        "\n",
        "best_params = grid_search.best_params_\n",
        "\n",
        "# Visualizzazione dei risultati\n",
        "print(\"Miglior combinazione di parametri: \", best_params)\n",
        "\n",
        "# train the model with the best parameters\n",
        "clf = SVC(kernel='poly', C=best_params['C'], degree=best_params['degree'])\n",
        "\n",
        "print_scores(clf)"
      ]
    }
  ],
  "metadata": {
    "colab": {
      "collapsed_sections": [
        "L9Q4yD3_VNG3",
        "7d1Tjb0vVNG8",
        "L5RG7f-qbbB0",
        "pM8GPt0FF4RA",
        "exFuWFruVNG9",
        "ozFHdBQHVNG9",
        "4UxXyTV8VNG-",
        "wf_AgtDOVNG_",
        "UwsCBCoMfw_X",
        "sQibwMsWcJ2t",
        "gzUEkYbLVNHA",
        "FSDBzZ5WrT7a",
        "ujGliQ-gIYKz",
        "IRaw8bQg8ZI7",
        "_Q1EshJP9JEY",
        "NMBf3xuQL-EL",
        "6Epkxq5Z9ruy",
        "kI3ihKFZMVpR",
        "FgOqf8ztD-UV",
        "LXUnWMJlEXsx",
        "TjnHutoqJy9k",
        "rNUMmF9bI_zl",
        "_u0to2RUKbD6",
        "BV9wpPnKETYy",
        "iPYzt8LMdlTw",
        "BKeFAPZmhkCs",
        "UGl9TOW8jMSG",
        "hLqccviFkTZq"
      ],
      "provenance": []
    },
    "kernelspec": {
      "display_name": "Python 3 (ipykernel)",
      "language": "python",
      "name": "python3"
    },
    "language_info": {
      "codemirror_mode": {
        "name": "ipython",
        "version": 3
      },
      "file_extension": ".py",
      "mimetype": "text/x-python",
      "name": "python",
      "nbconvert_exporter": "python",
      "pygments_lexer": "ipython3",
      "version": "3.9.6"
    }
  },
  "nbformat": 4,
  "nbformat_minor": 0
}
