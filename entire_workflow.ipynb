{
 "cells": [
  {
   "attachments": {},
   "cell_type": "markdown",
   "metadata": {},
   "source": [
    "# Entire workflow"
   ]
  },
  {
   "cell_type": "code",
   "execution_count": null,
   "metadata": {},
   "outputs": [],
   "source": [
    "# import libraries\n",
    "import cv2\n",
    "import matplotlib.pyplot as plt\n",
    "import tensorflow as tf\n",
    "import numpy as np"
   ]
  },
  {
   "cell_type": "code",
   "execution_count": null,
   "metadata": {},
   "outputs": [],
   "source": [
    "path_image = \"\" # choose an image\n",
    "assert path_image!='', 'Please specify the image path!'\n",
    "\n",
    "# Load the image in RGB format\n",
    "image = cv2.imread(path_image)\n",
    "image = cv2.cvtColor(image, cv2.COLOR_BGR2RGB)"
   ]
  },
  {
   "cell_type": "code",
   "execution_count": null,
   "metadata": {},
   "outputs": [],
   "source": [
    "# Resizing image for faster processing (OPTIONAL but RECOMMENDED)\n",
    "height, width, _ = image.shape\n",
    "aspect_ratio = width / height\n",
    "new_width = 500\n",
    "new_height = int(new_width / aspect_ratio)\n",
    "\n",
    "image = cv2.resize(image, (new_width, new_height))"
   ]
  },
  {
   "attachments": {},
   "cell_type": "markdown",
   "metadata": {},
   "source": [
    "## 1. Segmentation of sclera"
   ]
  },
  {
   "cell_type": "code",
   "execution_count": null,
   "metadata": {},
   "outputs": [],
   "source": [
    "from sclera_segmentation import segmentation\n",
    "\n",
    "mask_sclera, _, _, _ = segmentation.segment(image)\n",
    "img_segmented = cv2.bitwise_and(image, image, mask=mask_sclera)\n",
    "\n",
    "# Plot the segmented image\n",
    "plt.figure(figsize=(15,15))\n",
    "plt.subplot(121)\n",
    "plt.title(\"original\")\n",
    "plt.imshow(image)\n",
    "plt.subplot(122)\n",
    "plt.title(\"segmented\")\n",
    "plt.imshow(img_segmented)\n",
    "plt.show()"
   ]
  },
  {
   "attachments": {},
   "cell_type": "markdown",
   "metadata": {},
   "source": [
    "## 2. Generation of vessels mask (U-Net)"
   ]
  },
  {
   "cell_type": "code",
   "execution_count": null,
   "metadata": {},
   "outputs": [],
   "source": [
    "from unet.unet import get_vessels_from_image\n",
    "    \n",
    "pred_image = get_vessels_from_image(img_segmented)\n",
    "\n",
    "# Plot the segmented image\n",
    "plt.figure(figsize=(15,15))\n",
    "plt.subplot(121)\n",
    "plt.title(\"original\")\n",
    "plt.imshow(image)\n",
    "plt.subplot(122)\n",
    "plt.title(\"mask vessels\")\n",
    "plt.imshow(pred_image,cmap=plt.cm.gray)\n",
    "plt.show()\n"
   ]
  },
  {
   "cell_type": "code",
   "execution_count": null,
   "metadata": {},
   "outputs": [],
   "source": [
    "pred_image = pred_image.astype(np.uint8)\n",
    "\n",
    "sclera_vessels_masked = cv2.bitwise_and(img_segmented, img_segmented, mask=pred_image)\n",
    "\n",
    "# Plot the segmented image\n",
    "plt.figure(figsize=(15,15))\n",
    "plt.subplot(121)\n",
    "plt.title(\"original\")\n",
    "plt.imshow(image)\n",
    "plt.subplot(122)\n",
    "plt.title(\"sclera vessels masked\")\n",
    "plt.imshow(sclera_vessels_masked)\n",
    "plt.show()"
   ]
  },
  {
   "attachments": {},
   "cell_type": "markdown",
   "metadata": {},
   "source": [
    "## 3. Evaluation"
   ]
  },
  {
   "attachments": {},
   "cell_type": "markdown",
   "metadata": {},
   "source": [
    "### 3.1 Preprocessing"
   ]
  },
  {
   "cell_type": "code",
   "execution_count": null,
   "metadata": {},
   "outputs": [],
   "source": [
    "from svm.svm import calculate_bgr, adjust_contrast, calculate_lab, extract_white"
   ]
  },
  {
   "cell_type": "code",
   "execution_count": null,
   "metadata": {},
   "outputs": [],
   "source": [
    "sclera_quantiles_bgr, vessels_quantiles_bgr, vessels_density, value_r_minous_g_img_sclera, value_r_minous_g_img_vessels, dev_std_sclera, dev_std_vessels = calculate_bgr(img_segmented, sclera_vessels_masked)"
   ]
  },
  {
   "cell_type": "code",
   "execution_count": null,
   "metadata": {},
   "outputs": [],
   "source": [
    "sclera_lab, sclera_vessels_lab = adjust_contrast(img_segmented, sclera_vessels_masked)"
   ]
  },
  {
   "cell_type": "code",
   "execution_count": null,
   "metadata": {},
   "outputs": [],
   "source": [
    "value_a_img_sclera, value_a_img_vessels, dev_std_sclera_cielab, dev_std_vessels_cielab, sclera_quantiles_lab, vessels_quantiles_lab = calculate_lab(img_segmented, sclera_lab, sclera_vessels_lab)"
   ]
  },
  {
   "cell_type": "code",
   "execution_count": null,
   "metadata": {},
   "outputs": [],
   "source": [
    "vessels_colors_white_deviations_cielab, vessels_colors_white_quantiles_cielab = extract_white(pred_image, img_segmented)"
   ]
  },
  {
   "attachments": {},
   "cell_type": "markdown",
   "metadata": {},
   "source": [
    "## 2.2 Prediction"
   ]
  },
  {
   "attachments": {},
   "cell_type": "markdown",
   "metadata": {},
   "source": [
    "### Load model"
   ]
  },
  {
   "cell_type": "code",
   "execution_count": null,
   "metadata": {},
   "outputs": [],
   "source": [
    "import pickle\n",
    "\n",
    "# Load svm model\n",
    "filename = 'svm/svm_model.sav'\n",
    "\n",
    "# Load model\n",
    "loaded_model = pickle.load(open(filename, 'rb'))"
   ]
  },
  {
   "attachments": {},
   "cell_type": "markdown",
   "metadata": {},
   "source": [
    "### Get features"
   ]
  },
  {
   "cell_type": "code",
   "execution_count": null,
   "metadata": {},
   "outputs": [],
   "source": [
    "# prepare features for the model\n",
    "X = []\n",
    "\n",
    "one = vessels_density[0]\n",
    "tree = value_r_minous_g_img_vessels[0]\n",
    "four = dev_std_sclera[0][0][0] - dev_std_vessels[0][0][0]\n",
    "six = sclera_quantiles_bgr[0][2][1]\n",
    "eight = value_a_img_sclera[0] - value_a_img_vessels[0]\n",
    "nine = value_a_img_vessels[0]\n",
    "ten = dev_std_sclera_cielab[0][0][0]\n",
    "eleven = vessels_quantiles_lab[0][0][1]\n",
    "twelve = sclera_quantiles_lab[0][2][2] - vessels_quantiles_lab[0][2][2]\n",
    "\n",
    "# add feature to X list\n",
    "X.append([one,tree,four,six,eight,nine,ten,eleven,twelve])"
   ]
  },
  {
   "cell_type": "code",
   "execution_count": null,
   "metadata": {},
   "outputs": [],
   "source": [
    "y_pred = loaded_model.predict(X)\n",
    "\n",
    "if y_pred[0] == 1:\n",
    "    print(\"The patient has anemia\")\n",
    "else:\n",
    "    print(\"The patient has not anemia\")"
   ]
  }
 ],
 "metadata": {
  "kernelspec": {
   "display_name": "Python 3",
   "language": "python",
   "name": "python3"
  },
  "language_info": {
   "codemirror_mode": {
    "name": "ipython",
    "version": 3
   },
   "file_extension": ".py",
   "mimetype": "text/x-python",
   "name": "python",
   "nbconvert_exporter": "python",
   "pygments_lexer": "ipython3",
   "version": "3.9.6"
  },
  "orig_nbformat": 4
 },
 "nbformat": 4,
 "nbformat_minor": 2
}
